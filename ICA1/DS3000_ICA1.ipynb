{
 "cells": [
  {
   "cell_type": "markdown",
   "metadata": {},
   "source": [
    "<center><h2> ICA 1</h2></center>"
   ]
  },
  {
   "cell_type": "markdown",
   "metadata": {},
   "source": [
    "In this ICA, you are going to scrape data from a table on Wikipedia. Specifically, you are going to retrieve some key information about Dumbledore from the right-aligned table on the following page:"
   ]
  },
  {
   "cell_type": "code",
   "execution_count": 1,
   "metadata": {},
   "outputs": [],
   "source": [
    "url = \"https://en.wikipedia.org/wiki/Albus_Dumbledore\""
   ]
  },
  {
   "cell_type": "markdown",
   "metadata": {},
   "source": [
    "* Examine the table structure in the HTML page.\n",
    "* From this table, you should retrieve the character's full name, birth date, Hogwarts house (e.g., Gryffindor), and link to the picture.\n",
    "* Write a function, get_table_info(), that returns these four fields in a dictionary, as shown in the sample output below."
   ]
  },
  {
   "cell_type": "code",
   "execution_count": 37,
   "metadata": {},
   "outputs": [
    {
     "data": {
      "text/plain": [
       "{'Image': '//upload.wikimedia.org/wikipedia/en/thumb/f/fe/Dumbledore_and_Elder_Wand.JPG/220px-Dumbledore_and_Elder_Wand.JPG',\n",
       " 'House': 'Gryffindor',\n",
       " 'Full name': 'Albus Percival Wulfric Brian Dumbledore',\n",
       " 'Birthday': '1881'}"
      ]
     },
     "execution_count": 37,
     "metadata": {},
     "output_type": "execute_result"
    }
   ],
   "source": [
    "get_table_info()"
   ]
  },
  {
   "cell_type": "markdown",
   "metadata": {},
   "source": [
    " "
   ]
  },
  {
   "cell_type": "markdown",
   "metadata": {},
   "source": [
    "Here is a list of libraries you may need to import. The rest is yours!"
   ]
  },
  {
   "cell_type": "code",
   "execution_count": 4,
   "metadata": {},
   "outputs": [],
   "source": [
    "import urllib.request as urllib\n",
    "from bs4 import BeautifulSoup"
   ]
  },
  {
   "cell_type": "code",
   "execution_count": 36,
   "metadata": {},
   "outputs": [],
   "source": [
    "def get_table_info():\n",
    "    html = urllib.urlopen(\"https://en.wikipedia.org/wiki/Albus_Dumbledore\")\n",
    "    soup = BeautifulSoup(html.read())\n",
    "\n",
    "    dumbledore_table = soup.find(\"table\").find_all(\"tr\")\n",
    "\n",
    "    dumbledore_dict = {}\n",
    "\n",
    "    for entry in dumbledore_table:\n",
    "        th = entry.find(\"th\")\n",
    "        if th is None:\n",
    "            if entry.find(\"td\") is not None:\n",
    "                if entry.find(\"td\").find(\"a\") is not None:\n",
    "                    if entry.find(\"td\").find(\"a\").find(\"img\") is not None:\n",
    "                        dumbledore_dict[\"Image\"] = entry.find(\"td\").find(\"a\").find(\"img\").get(\"src\")\n",
    "        else:\n",
    "            if th.getText() == \"Full name\":\n",
    "                dumbledore_dict[\"Full name\"] = entry.find(\"td\").getText()\n",
    "            elif th.getText() == \"Born\":\n",
    "                dumbledore_dict[\"Birthday\"] = entry.find(\"td\").getText()\n",
    "            elif th.getText() == \"House\":\n",
    "                dumbledore_dict[\"House\"] = entry.find(\"td\").getText()\n",
    "    return dumbledore_dict"
   ]
  },
  {
   "cell_type": "code",
   "execution_count": null,
   "metadata": {},
   "outputs": [],
   "source": []
  },
  {
   "cell_type": "code",
   "execution_count": null,
   "metadata": {},
   "outputs": [],
   "source": []
  }
 ],
 "metadata": {
  "kernelspec": {
   "display_name": "Python 3",
   "language": "python",
   "name": "python3"
  },
  "language_info": {
   "codemirror_mode": {
    "name": "ipython",
    "version": 3
   },
   "file_extension": ".py",
   "mimetype": "text/x-python",
   "name": "python",
   "nbconvert_exporter": "python",
   "pygments_lexer": "ipython3",
   "version": "3.7.4"
  }
 },
 "nbformat": 4,
 "nbformat_minor": 2
}
