{
 "cells": [
  {
   "cell_type": "markdown",
   "metadata": {},
   "source": [
    "<center><h2> In-class Activity 2</h2></center>"
   ]
  },
  {
   "cell_type": "markdown",
   "metadata": {},
   "source": [
    "In today's activity, you're going to scrape tweets using the Tweepy library and Twitter API.\n",
    "\n",
    "Download the TwitterCredentials.py file. One team member shoud complete the key information with their Twitter App information (the team member whose computer you are using as a team could volunteer to do this!)"
   ]
  },
  {
   "cell_type": "code",
   "execution_count": 17,
   "metadata": {},
   "outputs": [],
   "source": [
    "import tweepy\n",
    "import TwitterCredentials2 as keys\n",
    "import numpy as np\n",
    "import pandas as pd"
   ]
  },
  {
   "cell_type": "markdown",
   "metadata": {},
   "source": [
    "* Then identify a public Twitter account as a team. \n",
    "* You will retrieve this account's tweets. For the purposes of this activity, getting 300 tweets should be enough.\n",
    "\n",
    "* If you are stuck, you can scrape Northeastern President Aoun's tweets @PresidentAoun.\n",
    "    * https://twitter.com/PresidentAoun\n",
    "* Lastly, write the DataFrame to a CSV file\n"
   ]
  },
  {
   "cell_type": "markdown",
   "metadata": {},
   "source": [
    "#### What to scrape:\n",
    "* Scrape your selected user's **300 tweets**, **when they posted the tweet**, and **the list of hashtags included in the tweets**. \n",
    "* Then store these in a DataFrame, df, as shown below:\n",
    "    * Notice the hashtags are strings separated by commas."
   ]
  },
  {
   "cell_type": "code",
   "execution_count": 3,
   "metadata": {},
   "outputs": [
    {
     "data": {
      "text/html": [
       "<div>\n",
       "<style scoped>\n",
       "    .dataframe tbody tr th:only-of-type {\n",
       "        vertical-align: middle;\n",
       "    }\n",
       "\n",
       "    .dataframe tbody tr th {\n",
       "        vertical-align: top;\n",
       "    }\n",
       "\n",
       "    .dataframe thead th {\n",
       "        text-align: right;\n",
       "    }\n",
       "</style>\n",
       "<table border=\"1\" class=\"dataframe\">\n",
       "  <thead>\n",
       "    <tr style=\"text-align: right;\">\n",
       "      <th></th>\n",
       "      <th>Tweet</th>\n",
       "      <th>Time</th>\n",
       "      <th>Hashtags</th>\n",
       "    </tr>\n",
       "  </thead>\n",
       "  <tbody>\n",
       "    <tr>\n",
       "      <td>0</td>\n",
       "      <td>Warming weather in #Antarctica threatens the p...</td>\n",
       "      <td>2020-01-17 03:40:16</td>\n",
       "      <td>Antarctica, drones</td>\n",
       "    </tr>\n",
       "    <tr>\n",
       "      <td>1</td>\n",
       "      <td>Psychiatric disorders can go undetected. But b...</td>\n",
       "      <td>2020-01-15 03:20:16</td>\n",
       "      <td>healthcare</td>\n",
       "    </tr>\n",
       "    <tr>\n",
       "      <td>2</td>\n",
       "      <td>A tool that limits political ads in your #Face...</td>\n",
       "      <td>2020-01-11 02:00:38</td>\n",
       "      <td>Facebook</td>\n",
       "    </tr>\n",
       "    <tr>\n",
       "      <td>3</td>\n",
       "      <td>#Improv classes at @Northeastern help our #com...</td>\n",
       "      <td>2020-01-09 01:56:11</td>\n",
       "      <td>Improv, computerscience, NUexperience, Humanics</td>\n",
       "    </tr>\n",
       "    <tr>\n",
       "      <td>4</td>\n",
       "      <td>Female economists face far more (and often unf...</td>\n",
       "      <td>2020-01-08 01:54:10</td>\n",
       "      <td>economics</td>\n",
       "    </tr>\n",
       "  </tbody>\n",
       "</table>\n",
       "</div>"
      ],
      "text/plain": [
       "                                               Tweet                Time  \\\n",
       "0  Warming weather in #Antarctica threatens the p... 2020-01-17 03:40:16   \n",
       "1  Psychiatric disorders can go undetected. But b... 2020-01-15 03:20:16   \n",
       "2  A tool that limits political ads in your #Face... 2020-01-11 02:00:38   \n",
       "3  #Improv classes at @Northeastern help our #com... 2020-01-09 01:56:11   \n",
       "4  Female economists face far more (and often unf... 2020-01-08 01:54:10   \n",
       "\n",
       "                                          Hashtags  \n",
       "0                               Antarctica, drones  \n",
       "1                                       healthcare  \n",
       "2                                         Facebook  \n",
       "3  Improv, computerscience, NUexperience, Humanics  \n",
       "4                                        economics  "
      ]
     },
     "execution_count": 3,
     "metadata": {},
     "output_type": "execute_result"
    }
   ],
   "source": [
    "df.head()"
   ]
  },
  {
   "cell_type": "code",
   "execution_count": 4,
   "metadata": {
    "scrolled": true
   },
   "outputs": [
    {
     "data": {
      "text/html": [
       "<div>\n",
       "<style scoped>\n",
       "    .dataframe tbody tr th:only-of-type {\n",
       "        vertical-align: middle;\n",
       "    }\n",
       "\n",
       "    .dataframe tbody tr th {\n",
       "        vertical-align: top;\n",
       "    }\n",
       "\n",
       "    .dataframe thead th {\n",
       "        text-align: right;\n",
       "    }\n",
       "</style>\n",
       "<table border=\"1\" class=\"dataframe\">\n",
       "  <thead>\n",
       "    <tr style=\"text-align: right;\">\n",
       "      <th></th>\n",
       "      <th>Tweet</th>\n",
       "      <th>Time</th>\n",
       "      <th>Hashtags</th>\n",
       "    </tr>\n",
       "  </thead>\n",
       "  <tbody>\n",
       "    <tr>\n",
       "      <td>295</td>\n",
       "      <td>#WomensMarch posters preserved by #Northeaster...</td>\n",
       "      <td>2018-04-24 02:14:21</td>\n",
       "      <td>WomensMarch, Northeastern</td>\n",
       "    </tr>\n",
       "    <tr>\n",
       "      <td>296</td>\n",
       "      <td>RT @jtr5395: A few of this year's NSF GRFP fel...</td>\n",
       "      <td>2018-04-24 02:13:00</td>\n",
       "      <td></td>\n",
       "    </tr>\n",
       "    <tr>\n",
       "      <td>297</td>\n",
       "      <td>Enjoying this glorious day along the Charles w...</td>\n",
       "      <td>2018-04-22 18:14:16</td>\n",
       "      <td>Northeastern</td>\n",
       "    </tr>\n",
       "    <tr>\n",
       "      <td>298</td>\n",
       "      <td>.@Dsikky11's #NUexperience took him from Matth...</td>\n",
       "      <td>2018-04-21 00:14:55</td>\n",
       "      <td>NUexperience, SigningSikura, GoNU</td>\n",
       "    </tr>\n",
       "    <tr>\n",
       "      <td>299</td>\n",
       "      <td>If we take the long view on how #AI makes it e...</td>\n",
       "      <td>2018-04-20 02:06:57</td>\n",
       "      <td>AI</td>\n",
       "    </tr>\n",
       "  </tbody>\n",
       "</table>\n",
       "</div>"
      ],
      "text/plain": [
       "                                                 Tweet                Time  \\\n",
       "295  #WomensMarch posters preserved by #Northeaster... 2018-04-24 02:14:21   \n",
       "296  RT @jtr5395: A few of this year's NSF GRFP fel... 2018-04-24 02:13:00   \n",
       "297  Enjoying this glorious day along the Charles w... 2018-04-22 18:14:16   \n",
       "298  .@Dsikky11's #NUexperience took him from Matth... 2018-04-21 00:14:55   \n",
       "299  If we take the long view on how #AI makes it e... 2018-04-20 02:06:57   \n",
       "\n",
       "                              Hashtags  \n",
       "295          WomensMarch, Northeastern  \n",
       "296                                     \n",
       "297                       Northeastern  \n",
       "298  NUexperience, SigningSikura, GoNU  \n",
       "299                                 AI  "
      ]
     },
     "execution_count": 4,
     "metadata": {},
     "output_type": "execute_result"
    }
   ],
   "source": [
    "df.tail()"
   ]
  },
  {
   "cell_type": "code",
   "execution_count": 18,
   "metadata": {},
   "outputs": [],
   "source": [
    "auth = tweepy.OAuthHandler(keys.consumer_API_key, keys.consumer_API_secret_key)\n",
    "auth.set_access_token(keys.access_token, keys.access_token_secret)\n",
    "api = tweepy.API(auth, wait_on_rate_limit=True, wait_on_rate_limit_notify=True)"
   ]
  },
  {
   "cell_type": "code",
   "execution_count": 14,
   "metadata": {},
   "outputs": [
    {
     "data": {
      "text/plain": [
       "'447370329-pV2CwyKMgSexwzGUKalCGPNJ3EDOjhL9PwBni1qe'"
      ]
     },
     "execution_count": 14,
     "metadata": {},
     "output_type": "execute_result"
    }
   ],
   "source": [
    "keys.consumer_API_key"
   ]
  },
  {
   "cell_type": "code",
   "execution_count": 20,
   "metadata": {},
   "outputs": [],
   "source": [
    "cher = api.get_user('cher', tweet_mode='extended')"
   ]
  },
  {
   "cell_type": "code",
   "execution_count": 30,
   "metadata": {},
   "outputs": [],
   "source": []
  },
  {
   "cell_type": "code",
   "execution_count": 26,
   "metadata": {},
   "outputs": [],
   "source": []
  },
  {
   "cell_type": "code",
   "execution_count": 43,
   "metadata": {},
   "outputs": [],
   "source": [
    "cher_data = pd.DataFrame(columns=['tweets', 'time', 'hashtags'])\n",
    "cursor = tweepy.Cursor(api.user_timeline, screen_name='cher', tweet_mode='extended')\n",
    "\n",
    "for tweet in cursor.items(300):\n",
    "    text = tweet.full_text\n",
    "    time = tweet.created_at\n",
    "    hashtags = tweet.entities['hashtags']\n",
    "    if hashtags:\n",
    "        hashtags = hashtags[0]['text']\n",
    "    cher_data = cher_data.append(pd.Series([text, time, hashtags], index=cher_data.columns), ignore_index=True)"
   ]
  },
  {
   "cell_type": "code",
   "execution_count": 46,
   "metadata": {},
   "outputs": [],
   "source": [
    "cher_data.to_csv('cher_data.csv', index=False)"
   ]
  },
  {
   "cell_type": "code",
   "execution_count": null,
   "metadata": {},
   "outputs": [],
   "source": []
  }
 ],
 "metadata": {
  "kernelspec": {
   "display_name": "Python 3",
   "language": "python",
   "name": "python3"
  },
  "language_info": {
   "codemirror_mode": {
    "name": "ipython",
    "version": 3
   },
   "file_extension": ".py",
   "mimetype": "text/x-python",
   "name": "python",
   "nbconvert_exporter": "python",
   "pygments_lexer": "ipython3",
   "version": "3.7.4"
  }
 },
 "nbformat": 4,
 "nbformat_minor": 2
}
