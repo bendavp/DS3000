{
 "cells": [
  {
   "cell_type": "markdown",
   "metadata": {},
   "source": [
    "<center> <h1> DS 3000 </h1> </center>\n",
    "<center> <h1> Homework Assignment 1 </h1> </center>\n"
   ]
  },
  {
   "cell_type": "markdown",
   "metadata": {},
   "source": [
    "<center> <h3> Benjamin Kosiborod </h3></center>"
   ]
  },
  {
   "cell_type": "markdown",
   "metadata": {},
   "source": [
    "### What to do\n",
    "\n",
    "* Carefully read the description below.\n",
    "* As you write your code, please include comments when you are doing something different/interesting. Use your judgment to decide when it is useful to add comments to your code.\n",
    "* Make sure you execute your code for each question and compare the output to the sample output provided, if any.\n",
    "* Refrain from using advanced Python capabilities that were not covered in class.\n",
    "* When in doubt, ASK! Post a question on the Blackboard discussion forum for this homework assignment.\n",
    "* Complete the assignment on your own!"
   ]
  },
  {
   "cell_type": "markdown",
   "metadata": {},
   "source": [
    "### What to submit\n",
    "* When you are done with the assignment, save it.\n",
    "* Download it as a Jupyter Notebook (DS3000_HW1.ipynb)\n",
    "* Upload your downloaded Notebook to Google Colab (https://colab.research.google.com/notebooks/)\n",
    "* Get a shareable link to your Notebook on Colab\n",
    "    * Go to Share near the top-right corner of the screen.\n",
    "    * **Make sure you select Anyone with the Link Can View**\n",
    "    * Copy the link\n",
    "* Go to Blackboard\n",
    "* **Upload your Jupyter Notebook through the Blackboard assignment dropbox link.**\n",
    "* **Paste the link to you Colab Notebook in the Add Comments field.**\n",
    "* You can submit multiple attempts. The last attempt will be graded."
   ]
  },
  {
   "cell_type": "markdown",
   "metadata": {},
   "source": [
    "<center><h2> Description </h2></center>"
   ]
  },
  {
   "cell_type": "markdown",
   "metadata": {},
   "source": [
    "In this assignment, you are going to practice using some of the key concepts from the first few lectures. To that end, you are going to simulate a popular dice game, \"craps\".\n",
    "\n",
    "**The rules of the game are as follows:**\n",
    "\n",
    "* You roll two six-sided dice, each with faces containing one, two, three, four, five and six spots, respectively. \n",
    "* When the dice come to rest, the sum of the spots on the two upward faces is calculated. \n",
    "    * If the sum is 7 or 11 on the first roll, you win. \n",
    "    * If the sum is 2, 3 or 12 on the first roll (called “craps”), you lose (i.e., the “house” wins). \n",
    "    * If the sum is 4, 5, 6, 8, 9 or 10 on the first roll, that sum becomes your “point.” \n",
    "* To win, you must continue rolling the dice until you “make your point” (i.e., roll that same point value). In other words, if the sum of your new roll is equal to your point, you win.\n",
    "* You lose by rolling a 7 before making your point.\n",
    "* Thus, the game continues until you win or lose."
   ]
  },
  {
   "cell_type": "markdown",
   "metadata": {},
   "source": [
    "**The requirements of the assignment are as follows:**\n",
    "\n",
    "* Your script should be designed to play 10000 games of craps. In the end, a summary of the results(number of wins/losses) will be presented as described below.\n",
    "* Use a **wins dictionary** to keep track of the number of games won for a particular number of rolls (remember the game continues until you win, meaning a single game might contain many rolls). For instance, a typical key-value pair in the **wins dictionary** may be \n",
    "    * **5: 3000**\n",
    "    * indicating that 3000 games were won on the 5th roll.\n",
    "    \n",
    "* Likewise, use a **losses dictionary** to keep track of the number of games lost for a particular number of rolls.\n",
    "* As the simulation proceeds, keep updating the dictionaries.\n",
    "* The dictionaries should **store the number of wins/losses for up to 20 rolls**. After 20 rolls, the game should consider those as wins/losses after the 20th roll. You can use a key of 21 to represent these in your dictionary. Thus the sizes of the wins and losses dictionaries should be 21."
   ]
  },
  {
   "cell_type": "markdown",
   "metadata": {},
   "source": [
    "### Question 1 (3pts)\n",
    "Write a **function**, called *roll_dice*, that randomly rolls two dice and return their face values as a **tuple**. Refer to the sample output below."
   ]
  },
  {
   "cell_type": "code",
   "execution_count": 36,
   "metadata": {},
   "outputs": [],
   "source": [
    "import random\n",
    "def roll_dice():\n",
    "    return (random.randrange(1,7), random.randrange(1,7))"
   ]
  },
  {
   "cell_type": "code",
   "execution_count": 43,
   "metadata": {},
   "outputs": [
    {
     "data": {
      "text/plain": [
       "(6, 4)"
      ]
     },
     "execution_count": 43,
     "metadata": {},
     "output_type": "execute_result"
    }
   ],
   "source": [
    "roll_dice()"
   ]
  },
  {
   "cell_type": "markdown",
   "metadata": {},
   "source": [
    "### Question 2 (20pt)\n",
    "Write a function, *play_craps*, that plays **10000 games of craps** based on the rules and requirement specified above. The  value of the number of games should be modifiable. Thus, your function should accept the number_of_games variable as a paramater instead of using the hard-coded value of 10000.\n",
    "\n",
    "This script should begin by making the first roll (using the roll_dice function you just defined). Your script should keep track of **wins and losses** and store their counts for each roll in their corresponding dictionaries. The sample output below displays the contents of the wins and losses dictionaries after this code snippet is executed."
   ]
  },
  {
   "cell_type": "code",
   "execution_count": 51,
   "metadata": {},
   "outputs": [],
   "source": [
    "#for your convenience the dictionaries are already defined:\n",
    "wins = {}\n",
    "losses = {}\n",
    "\n",
    "\n",
    "def play_craps(num_games=10000):\n",
    "    # first, initialize the dictionaries with the keys we want them to have (1-21), \n",
    "    # and set all keys to 0, since we haven't played a game yet\n",
    "    for key in range(1, 22):\n",
    "        wins[key] = wins.get(key, 0)\n",
    "        losses[key] = losses.get(key, 0)\n",
    "    # inside the for loop is a simulation of 1 game, \n",
    "    # but we must be able to simulate any number of games,\n",
    "    # hence the for loop\n",
    "    for game in range(0, num_games):\n",
    "        initial_roll = sum(roll_dice()) # first dice roll\n",
    "        # if it's equal to 7 or 11, you win in one roll\n",
    "        if initial_roll == 7 or initial_roll == 11: \n",
    "            wins[1] += 1\n",
    "        # if it's equal to 2, 3, or 12, you lose in one roll\n",
    "        elif initial_roll == 2 or initial_roll == 3 or initial_roll == 12: \n",
    "            losses[1] += 1\n",
    "        else: # otherwise, if it's not equal to the above numbers, the first roll is now your \"point\"\n",
    "            another_roll = sum(roll_dice()) # this is the second roll\n",
    "            rolls = 2 # the number of rolls you've already done\n",
    "            # until another_roll matches your \"point\" or 7, keep rolling\n",
    "            while another_roll != initial_roll and another_roll != 7: \n",
    "                another_roll = sum(roll_dice()) # a new roll\n",
    "                rolls += 1 # add one to the number of rolls you made\n",
    "            # if you made more than 20 rolls in the game, then set rolls to 21, \n",
    "            # since that is the key that represents making more than 20 rolls\n",
    "            if rolls > 20: \n",
    "                rolls = 21\n",
    "            # now, another_roll is either 7, or your \"point\", so time to figure out which one it is\n",
    "            if another_roll == initial_roll: # if it's your \"point\", then you win!\n",
    "                # add one win to the wins dictionary entry for the number of rolls you made the whole game\n",
    "                wins[rolls] += 1 \n",
    "            elif another_roll == 7: # if it's a 7, then you lose\n",
    "                # add one loss to the losses dictionary entry for the number of rolls you made the whole game\n",
    "                losses[rolls] += 1 "
   ]
  },
  {
   "cell_type": "code",
   "execution_count": 52,
   "metadata": {},
   "outputs": [],
   "source": [
    "play_craps()"
   ]
  },
  {
   "cell_type": "code",
   "execution_count": 53,
   "metadata": {},
   "outputs": [
    {
     "data": {
      "text/plain": [
       "{1: 2231,\n",
       " 2: 732,\n",
       " 3: 552,\n",
       " 4: 391,\n",
       " 5: 264,\n",
       " 6: 200,\n",
       " 7: 134,\n",
       " 8: 102,\n",
       " 9: 62,\n",
       " 10: 47,\n",
       " 11: 41,\n",
       " 12: 34,\n",
       " 13: 16,\n",
       " 14: 14,\n",
       " 15: 6,\n",
       " 16: 4,\n",
       " 17: 12,\n",
       " 18: 0,\n",
       " 19: 2,\n",
       " 20: 2,\n",
       " 21: 8}"
      ]
     },
     "execution_count": 53,
     "metadata": {},
     "output_type": "execute_result"
    }
   ],
   "source": [
    "wins # 1:2214 indicates 2214 games were won on the 1st roll"
   ]
  },
  {
   "cell_type": "code",
   "execution_count": 54,
   "metadata": {},
   "outputs": [
    {
     "data": {
      "text/plain": [
       "{1: 1122,\n",
       " 2: 1131,\n",
       " 3: 800,\n",
       " 4: 597,\n",
       " 5: 420,\n",
       " 6: 305,\n",
       " 7: 211,\n",
       " 8: 121,\n",
       " 9: 100,\n",
       " 10: 91,\n",
       " 11: 70,\n",
       " 12: 61,\n",
       " 13: 38,\n",
       " 14: 18,\n",
       " 15: 14,\n",
       " 16: 18,\n",
       " 17: 6,\n",
       " 18: 6,\n",
       " 19: 4,\n",
       " 20: 2,\n",
       " 21: 11}"
      ]
     },
     "execution_count": 54,
     "metadata": {},
     "output_type": "execute_result"
    }
   ],
   "source": [
    "losses # 3:810 indicates 810 games were lost on the 3rd roll"
   ]
  },
  {
   "cell_type": "markdown",
   "metadata": {},
   "source": [
    "### Question 3 (7pts)\n",
    "Write a function that displays the results of the game based on the previous step. Your code should present the number of the wins and losses for the number of rolls values stored in the dictionaries, as shown below.\n",
    "\n",
    "At the end of the output, the function should display the probability of winning across all the games (which can be calculated as the proportion of the number of wins to the total number of games).\n",
    "\n",
    "You can use the escape characthers \"\\n\" and \"\\t\" to format your output."
   ]
  },
  {
   "cell_type": "code",
   "execution_count": 66,
   "metadata": {
    "scrolled": false
   },
   "outputs": [],
   "source": [
    "#answer 3 goes here\n",
    "def display_results():\n",
    "    print(\"ROLLS\\tWINS\\tLOSSES\")\n",
    "    for roll in range(1,22):\n",
    "        print(roll,\"\\t\",wins[roll],\"\\t\",losses[roll])\n",
    "    print(\"\\n\")\n",
    "    print(\"Probability of winning:\",sum(wins.values()),\"/\",sum(wins.values()) + sum(losses.values()), end=' ')\n",
    "    print(\"=\",(sum(wins.values())/(sum(wins.values()) + sum(losses.values())))*100,\"%\")"
   ]
  },
  {
   "cell_type": "code",
   "execution_count": 67,
   "metadata": {},
   "outputs": [
    {
     "name": "stdout",
     "output_type": "stream",
     "text": [
      "ROLLS\tWINS\tLOSSES\n",
      "1 \t 2231 \t 1122\n",
      "2 \t 732 \t 1131\n",
      "3 \t 552 \t 800\n",
      "4 \t 391 \t 597\n",
      "5 \t 264 \t 420\n",
      "6 \t 200 \t 305\n",
      "7 \t 134 \t 211\n",
      "8 \t 102 \t 121\n",
      "9 \t 62 \t 100\n",
      "10 \t 47 \t 91\n",
      "11 \t 41 \t 70\n",
      "12 \t 34 \t 61\n",
      "13 \t 16 \t 38\n",
      "14 \t 14 \t 18\n",
      "15 \t 6 \t 14\n",
      "16 \t 4 \t 18\n",
      "17 \t 12 \t 6\n",
      "18 \t 0 \t 6\n",
      "19 \t 2 \t 4\n",
      "20 \t 2 \t 2\n",
      "21 \t 8 \t 11\n",
      "\n",
      "\n",
      "Probability of winning: 4854 / 10000 = 48.54 %\n"
     ]
    }
   ],
   "source": [
    "display_results() #n the sample output below, 2212 games were won and 1159 lost on the first roll."
   ]
  },
  {
   "cell_type": "code",
   "execution_count": 84,
   "metadata": {},
   "outputs": [
    {
     "name": "stdout",
     "output_type": "stream",
     "text": [
      "ROLLS\tWINS\tLOSSES\n",
      "1 \t 39851 \t 20146\n",
      "2 \t 13887 \t 20196\n",
      "3 \t 9934 \t 14198\n",
      "4 \t 7132 \t 10391\n",
      "5 \t 5042 \t 7410\n",
      "6 \t 3545 \t 5300\n",
      "7 \t 2524 \t 3904\n",
      "8 \t 1883 \t 2784\n",
      "9 \t 1328 \t 1897\n",
      "10 \t 941 \t 1464\n",
      "11 \t 718 \t 1080\n",
      "12 \t 489 \t 749\n",
      "13 \t 330 \t 543\n",
      "14 \t 246 \t 416\n",
      "15 \t 165 \t 269\n",
      "16 \t 112 \t 236\n",
      "17 \t 100 \t 150\n",
      "18 \t 54 \t 120\n",
      "19 \t 59 \t 83\n",
      "20 \t 30 \t 57\n",
      "21 \t 102 \t 135\n",
      "\n",
      "\n",
      "Probability of winning: 88472 / 180000 = 49.15111111111111 %\n"
     ]
    }
   ],
   "source": [
    "play_craps()\n",
    "display_results()"
   ]
  },
  {
   "cell_type": "code",
   "execution_count": null,
   "metadata": {},
   "outputs": [],
   "source": []
  }
 ],
 "metadata": {
  "kernelspec": {
   "display_name": "Python 3",
   "language": "python",
   "name": "python3"
  },
  "language_info": {
   "codemirror_mode": {
    "name": "ipython",
    "version": 3
   },
   "file_extension": ".py",
   "mimetype": "text/x-python",
   "name": "python",
   "nbconvert_exporter": "python",
   "pygments_lexer": "ipython3",
   "version": "3.7.4"
  }
 },
 "nbformat": 4,
 "nbformat_minor": 2
}
