{
 "cells": [
  {
   "cell_type": "markdown",
   "metadata": {},
   "source": [
    "<center> <h1> DS 3000 </h1> </center>\n",
    "<center> <h1> Homework Assignment 3</h1> </center>"
   ]
  },
  {
   "cell_type": "markdown",
   "metadata": {},
   "source": [
    "<center> <h3> Benjamin Kosiborod </h3></center>"
   ]
  },
  {
   "cell_type": "markdown",
   "metadata": {},
   "source": [
    "### What to do\n",
    "\n",
    "* Carefully read the description.\n",
    "* As you write your code for each question, please include comments. \n",
    "* Make sure you execute your code for each question and compare the output to the sample output provided.\n",
    "* Refrain from using advanced Python capabilities/libraries that were not covered in class.\n",
    "* When in doubt, ASK! Post a question on the Blackboard discussion forum for this homework assignment.\n",
    "* Complete the assignment on your own\n",
    "* **Properly format your Jupyter Notebook file and remove any extra lines/code snippets/etc.**\n",
    "    * The easier you make it for graders to find your answers, the better!"
   ]
  },
  {
   "cell_type": "markdown",
   "metadata": {},
   "source": [
    "### What to submit\n",
    "* When you are done with the assignment, save it.\n",
    "* Download it as a Jupyter Notebook (DS3000_HW3.ipynb)\n",
    "* Upload your downloaded Notebook to Google Colab (https://colab.research.google.com/notebooks/)\n",
    "* Get a shareable link to your Notebook on Colab\n",
    "    * Go to Share near the top-right corner of the screen.\n",
    "    * **Make sure you select Anyone with the Link Can View**\n",
    "    * Copy the link\n",
    "* Go to Blackboard\n",
    "* **Upload your Jupyter Notebook through the Blackboard assignment link.**\n",
    "* **Paste the link to you Colab Notebook in the Add Comments field.**\n",
    "* You can submit multiple attempts before the deadline. The last attempt will be graded after the deadline."
   ]
  },
  {
   "cell_type": "markdown",
   "metadata": {},
   "source": [
    "<center><h2> Part 1 </h2></center>\n",
    "\n",
    "In this HW assignment, you will analyze a dataset regarding the number of international students studying at 500 US universities. The attached \"students.csv\" contains the name of the university and the number of international students enrolled in each university in 2017. \n",
    "\n",
    "The dataset comes from the US Department of Education's website."
   ]
  },
  {
   "cell_type": "code",
   "execution_count": 2,
   "metadata": {},
   "outputs": [],
   "source": [
    "import pandas as pd"
   ]
  },
  {
   "cell_type": "markdown",
   "metadata": {},
   "source": [
    "### Question 1 (1pt)\n",
    "Write a one-line code snippet that imports the \"students.csv\" file into a dataframe, named \"students\", and sets the **School** column as the index of the DataFrame."
   ]
  },
  {
   "cell_type": "code",
   "execution_count": 3,
   "metadata": {},
   "outputs": [],
   "source": [
    "students = pd.read_csv(\"students.csv\", index_col=\"School\")"
   ]
  },
  {
   "cell_type": "code",
   "execution_count": 4,
   "metadata": {},
   "outputs": [
    {
     "data": {
      "text/html": [
       "<div>\n",
       "<style scoped>\n",
       "    .dataframe tbody tr th:only-of-type {\n",
       "        vertical-align: middle;\n",
       "    }\n",
       "\n",
       "    .dataframe tbody tr th {\n",
       "        vertical-align: top;\n",
       "    }\n",
       "\n",
       "    .dataframe thead th {\n",
       "        text-align: right;\n",
       "    }\n",
       "</style>\n",
       "<table border=\"1\" class=\"dataframe\">\n",
       "  <thead>\n",
       "    <tr style=\"text-align: right;\">\n",
       "      <th></th>\n",
       "      <th>Students</th>\n",
       "    </tr>\n",
       "    <tr>\n",
       "      <th>School</th>\n",
       "      <th></th>\n",
       "    </tr>\n",
       "  </thead>\n",
       "  <tbody>\n",
       "    <tr>\n",
       "      <td>Academy of Art University</td>\n",
       "      <td>6404</td>\n",
       "    </tr>\n",
       "    <tr>\n",
       "      <td>Adelphi University</td>\n",
       "      <td>950</td>\n",
       "    </tr>\n",
       "    <tr>\n",
       "      <td>American College of Commerce &amp; Technology</td>\n",
       "      <td>1677</td>\n",
       "    </tr>\n",
       "    <tr>\n",
       "      <td>American Language Communication Center</td>\n",
       "      <td>2607</td>\n",
       "    </tr>\n",
       "    <tr>\n",
       "      <td>American Language Institute</td>\n",
       "      <td>2557</td>\n",
       "    </tr>\n",
       "  </tbody>\n",
       "</table>\n",
       "</div>"
      ],
      "text/plain": [
       "                                           Students\n",
       "School                                             \n",
       "Academy of Art University                      6404\n",
       "Adelphi University                              950\n",
       "American College of Commerce & Technology      1677\n",
       "American Language Communication Center         2607\n",
       "American Language Institute                    2557"
      ]
     },
     "execution_count": 4,
     "metadata": {},
     "output_type": "execute_result"
    }
   ],
   "source": [
    "students.head()"
   ]
  },
  {
   "cell_type": "markdown",
   "metadata": {},
   "source": [
    "### Question 2 (1pts)\n",
    "Write a one-line code snippet that returns the total number of international students across all the universities in the dataset in 2017. Your code snippet should return a single number as an int."
   ]
  },
  {
   "cell_type": "code",
   "execution_count": 5,
   "metadata": {},
   "outputs": [
    {
     "data": {
      "text/plain": [
       "1260512"
      ]
     },
     "execution_count": 5,
     "metadata": {},
     "output_type": "execute_result"
    }
   ],
   "source": [
    "students[\"Students\"].apply(\"sum\")"
   ]
  },
  {
   "cell_type": "markdown",
   "metadata": {},
   "source": [
    "### Question 3 (2pts)\n",
    "Write a one-line code snippet that returns the number of international students at \"Northeastern University\" in 2017."
   ]
  },
  {
   "cell_type": "code",
   "execution_count": 6,
   "metadata": {},
   "outputs": [
    {
     "data": {
      "text/plain": [
       "17304"
      ]
     },
     "execution_count": 6,
     "metadata": {},
     "output_type": "execute_result"
    }
   ],
   "source": [
    "students[\"Students\"][students.index == \"Northeastern University\"].iloc[0]"
   ]
  },
  {
   "cell_type": "markdown",
   "metadata": {},
   "source": [
    "### Question 4 (2pts)\n",
    "Write a one-line code snippet that returns the name of the university with the greatest number of international students. The name of the university should be returned as a string. Avoid hardcoding to the output below. **Use Boolean indexing.**"
   ]
  },
  {
   "cell_type": "code",
   "execution_count": 7,
   "metadata": {},
   "outputs": [
    {
     "data": {
      "text/plain": [
       "22238"
      ]
     },
     "execution_count": 7,
     "metadata": {},
     "output_type": "execute_result"
    }
   ],
   "source": [
    "students[students[\"Students\"] == students[\"Students\"].apply(\"max\")].iloc[0, 0]"
   ]
  },
  {
   "cell_type": "markdown",
   "metadata": {},
   "source": [
    "### Question 5 (3pts)\n",
    "Write a code snippet that returns the list of universities where the number of international students is greater than the number of international students at Northeastern University. Your code should return a dataframe containing the list of universities along with their student numbers. **The list should be presented in descending order based on the number of students.**"
   ]
  },
  {
   "cell_type": "code",
   "execution_count": 8,
   "metadata": {},
   "outputs": [
    {
     "data": {
      "text/html": [
       "<div>\n",
       "<style scoped>\n",
       "    .dataframe tbody tr th:only-of-type {\n",
       "        vertical-align: middle;\n",
       "    }\n",
       "\n",
       "    .dataframe tbody tr th {\n",
       "        vertical-align: top;\n",
       "    }\n",
       "\n",
       "    .dataframe thead th {\n",
       "        text-align: right;\n",
       "    }\n",
       "</style>\n",
       "<table border=\"1\" class=\"dataframe\">\n",
       "  <thead>\n",
       "    <tr style=\"text-align: right;\">\n",
       "      <th></th>\n",
       "      <th>Students</th>\n",
       "    </tr>\n",
       "    <tr>\n",
       "      <th>School</th>\n",
       "      <th></th>\n",
       "    </tr>\n",
       "  </thead>\n",
       "  <tbody>\n",
       "    <tr>\n",
       "      <td>New York University</td>\n",
       "      <td>22238</td>\n",
       "    </tr>\n",
       "    <tr>\n",
       "      <td>University of Southern California</td>\n",
       "      <td>18786</td>\n",
       "    </tr>\n",
       "    <tr>\n",
       "      <td>Columbia University in the City of New York</td>\n",
       "      <td>18332</td>\n",
       "    </tr>\n",
       "  </tbody>\n",
       "</table>\n",
       "</div>"
      ],
      "text/plain": [
       "                                             Students\n",
       "School                                               \n",
       "New York University                             22238\n",
       "University of Southern California               18786\n",
       "Columbia University in the City of New York     18332"
      ]
     },
     "execution_count": 8,
     "metadata": {},
     "output_type": "execute_result"
    }
   ],
   "source": [
    "northeastern_students = students[\"Students\"][students.index == \"Northeastern University\"].iloc[0]\n",
    "students[students[\"Students\"] > northeastern_students].sort_values(by = \"Students\", ascending=False)"
   ]
  },
  {
   "cell_type": "markdown",
   "metadata": {},
   "source": [
    "<center><h2> Part 2 </h2></center>\n",
    "\n",
    "In this part, you will build on the previous part and answer some additional questions about the international students at top US universities. The attached \"universities.csv\" file contains more information about the top 10 universities with the largest international student populations. \n",
    "\n",
    "The dataset contains the name of the university and city and state information for the university, as well as the overall student population (total number of students, including both domestic and international students)."
   ]
  },
  {
   "cell_type": "markdown",
   "metadata": {},
   "source": [
    "### Question 6 (1pt)\n",
    "Write a one-line code snippet that imports the \"universities.csv\" file into a dataframe, named \"universities\"."
   ]
  },
  {
   "cell_type": "code",
   "execution_count": 9,
   "metadata": {},
   "outputs": [],
   "source": [
    "universities = pd.read_csv(\"universities.csv\", index_col=\"University\")"
   ]
  },
  {
   "cell_type": "code",
   "execution_count": 10,
   "metadata": {},
   "outputs": [
    {
     "data": {
      "text/html": [
       "<div>\n",
       "<style scoped>\n",
       "    .dataframe tbody tr th:only-of-type {\n",
       "        vertical-align: middle;\n",
       "    }\n",
       "\n",
       "    .dataframe tbody tr th {\n",
       "        vertical-align: top;\n",
       "    }\n",
       "\n",
       "    .dataframe thead th {\n",
       "        text-align: right;\n",
       "    }\n",
       "</style>\n",
       "<table border=\"1\" class=\"dataframe\">\n",
       "  <thead>\n",
       "    <tr style=\"text-align: right;\">\n",
       "      <th></th>\n",
       "      <th>City</th>\n",
       "      <th>State</th>\n",
       "      <th>Population</th>\n",
       "    </tr>\n",
       "    <tr>\n",
       "      <th>University</th>\n",
       "      <th></th>\n",
       "      <th></th>\n",
       "      <th></th>\n",
       "    </tr>\n",
       "  </thead>\n",
       "  <tbody>\n",
       "    <tr>\n",
       "      <td>New York University</td>\n",
       "      <td>New York City</td>\n",
       "      <td>new york</td>\n",
       "      <td>51123</td>\n",
       "    </tr>\n",
       "    <tr>\n",
       "      <td>University of Southern California</td>\n",
       "      <td>Los Angeles</td>\n",
       "      <td>California</td>\n",
       "      <td>44000</td>\n",
       "    </tr>\n",
       "    <tr>\n",
       "      <td>Columbia University in the City of New York</td>\n",
       "      <td>New York City</td>\n",
       "      <td>New York</td>\n",
       "      <td>32429</td>\n",
       "    </tr>\n",
       "    <tr>\n",
       "      <td>Northeastern University</td>\n",
       "      <td>Boston</td>\n",
       "      <td>Massachusetts</td>\n",
       "      <td>27260</td>\n",
       "    </tr>\n",
       "    <tr>\n",
       "      <td>University of Illinois</td>\n",
       "      <td>Champaign</td>\n",
       "      <td>Illinois</td>\n",
       "      <td>44087</td>\n",
       "    </tr>\n",
       "    <tr>\n",
       "      <td>Arizona State University</td>\n",
       "      <td>Tempe</td>\n",
       "      <td>ARIZONA</td>\n",
       "      <td>71946</td>\n",
       "    </tr>\n",
       "    <tr>\n",
       "      <td>Purdue University</td>\n",
       "      <td>West Lafayette</td>\n",
       "      <td>Indiana</td>\n",
       "      <td>41573</td>\n",
       "    </tr>\n",
       "    <tr>\n",
       "      <td>The Pennsylvania State University</td>\n",
       "      <td>Centre County</td>\n",
       "      <td>Pennsylvania</td>\n",
       "      <td>98783</td>\n",
       "    </tr>\n",
       "    <tr>\n",
       "      <td>University of California at Berkeley</td>\n",
       "      <td>Berkeley</td>\n",
       "      <td>california</td>\n",
       "      <td>41910</td>\n",
       "    </tr>\n",
       "    <tr>\n",
       "      <td>Boston University</td>\n",
       "      <td>Boston</td>\n",
       "      <td>Massachusetts</td>\n",
       "      <td>32551</td>\n",
       "    </tr>\n",
       "  </tbody>\n",
       "</table>\n",
       "</div>"
      ],
      "text/plain": [
       "                                                       City          State  \\\n",
       "University                                                                   \n",
       "New York University                          New York City        new york   \n",
       "University of Southern California               Los Angeles     California   \n",
       "Columbia University in the City of New York  New York City        New York   \n",
       "Northeastern University                              Boston  Massachusetts   \n",
       "University of Illinois                            Champaign       Illinois   \n",
       "Arizona State University                              Tempe        ARIZONA   \n",
       "Purdue University                            West Lafayette        Indiana   \n",
       "The Pennsylvania State University             Centre County   Pennsylvania   \n",
       "University of California at Berkeley               Berkeley     california   \n",
       "Boston University                                    Boston  Massachusetts   \n",
       "\n",
       "                                             Population  \n",
       "University                                               \n",
       "New York University                               51123  \n",
       "University of Southern California                 44000  \n",
       "Columbia University in the City of New York       32429  \n",
       "Northeastern University                           27260  \n",
       "University of Illinois                            44087  \n",
       "Arizona State University                          71946  \n",
       "Purdue University                                 41573  \n",
       "The Pennsylvania State University                 98783  \n",
       "University of California at Berkeley              41910  \n",
       "Boston University                                 32551  "
      ]
     },
     "execution_count": 10,
     "metadata": {},
     "output_type": "execute_result"
    }
   ],
   "source": [
    "universities"
   ]
  },
  {
   "cell_type": "markdown",
   "metadata": {},
   "source": [
    "### Question 7 (3pts)\n",
    "Write a one-line code snippet that combines the universities dataframe you just defined and students dataframe you used in Part 1 into a new dataframe, combined. The new dataframe should include all columns from both datasets for only the universities found in both, as shown in the sample output below.\n",
    "* In this dataframe, Population refers to the total number of students (both domestic and international), whereas Students refers to the number of international students only."
   ]
  },
  {
   "cell_type": "code",
   "execution_count": 11,
   "metadata": {},
   "outputs": [],
   "source": [
    "combined = students.join(universities, how=\"inner\")"
   ]
  },
  {
   "cell_type": "code",
   "execution_count": 12,
   "metadata": {},
   "outputs": [
    {
     "data": {
      "text/html": [
       "<div>\n",
       "<style scoped>\n",
       "    .dataframe tbody tr th:only-of-type {\n",
       "        vertical-align: middle;\n",
       "    }\n",
       "\n",
       "    .dataframe tbody tr th {\n",
       "        vertical-align: top;\n",
       "    }\n",
       "\n",
       "    .dataframe thead th {\n",
       "        text-align: right;\n",
       "    }\n",
       "</style>\n",
       "<table border=\"1\" class=\"dataframe\">\n",
       "  <thead>\n",
       "    <tr style=\"text-align: right;\">\n",
       "      <th></th>\n",
       "      <th>Students</th>\n",
       "      <th>City</th>\n",
       "      <th>State</th>\n",
       "      <th>Population</th>\n",
       "    </tr>\n",
       "  </thead>\n",
       "  <tbody>\n",
       "    <tr>\n",
       "      <td>Arizona State University</td>\n",
       "      <td>14647</td>\n",
       "      <td>Tempe</td>\n",
       "      <td>ARIZONA</td>\n",
       "      <td>71946</td>\n",
       "    </tr>\n",
       "    <tr>\n",
       "      <td>Boston University</td>\n",
       "      <td>11955</td>\n",
       "      <td>Boston</td>\n",
       "      <td>Massachusetts</td>\n",
       "      <td>32551</td>\n",
       "    </tr>\n",
       "    <tr>\n",
       "      <td>Columbia University in the City of New York</td>\n",
       "      <td>18332</td>\n",
       "      <td>New York City</td>\n",
       "      <td>New York</td>\n",
       "      <td>32429</td>\n",
       "    </tr>\n",
       "    <tr>\n",
       "      <td>New York University</td>\n",
       "      <td>22238</td>\n",
       "      <td>New York City</td>\n",
       "      <td>new york</td>\n",
       "      <td>51123</td>\n",
       "    </tr>\n",
       "    <tr>\n",
       "      <td>Northeastern University</td>\n",
       "      <td>17304</td>\n",
       "      <td>Boston</td>\n",
       "      <td>Massachusetts</td>\n",
       "      <td>27260</td>\n",
       "    </tr>\n",
       "    <tr>\n",
       "      <td>Purdue University</td>\n",
       "      <td>13609</td>\n",
       "      <td>West Lafayette</td>\n",
       "      <td>Indiana</td>\n",
       "      <td>41573</td>\n",
       "    </tr>\n",
       "    <tr>\n",
       "      <td>The Pennsylvania State University</td>\n",
       "      <td>12876</td>\n",
       "      <td>Centre County</td>\n",
       "      <td>Pennsylvania</td>\n",
       "      <td>98783</td>\n",
       "    </tr>\n",
       "    <tr>\n",
       "      <td>University of California at Berkeley</td>\n",
       "      <td>12779</td>\n",
       "      <td>Berkeley</td>\n",
       "      <td>california</td>\n",
       "      <td>41910</td>\n",
       "    </tr>\n",
       "    <tr>\n",
       "      <td>University of Illinois</td>\n",
       "      <td>14735</td>\n",
       "      <td>Champaign</td>\n",
       "      <td>Illinois</td>\n",
       "      <td>44087</td>\n",
       "    </tr>\n",
       "    <tr>\n",
       "      <td>University of Southern California</td>\n",
       "      <td>18786</td>\n",
       "      <td>Los Angeles</td>\n",
       "      <td>California</td>\n",
       "      <td>44000</td>\n",
       "    </tr>\n",
       "  </tbody>\n",
       "</table>\n",
       "</div>"
      ],
      "text/plain": [
       "                                             Students            City  \\\n",
       "Arizona State University                        14647           Tempe   \n",
       "Boston University                               11955          Boston   \n",
       "Columbia University in the City of New York     18332  New York City    \n",
       "New York University                             22238  New York City    \n",
       "Northeastern University                         17304          Boston   \n",
       "Purdue University                               13609  West Lafayette   \n",
       "The Pennsylvania State University               12876   Centre County   \n",
       "University of California at Berkeley            12779        Berkeley   \n",
       "University of Illinois                          14735       Champaign   \n",
       "University of Southern California               18786     Los Angeles   \n",
       "\n",
       "                                                     State  Population  \n",
       "Arizona State University                           ARIZONA       71946  \n",
       "Boston University                            Massachusetts       32551  \n",
       "Columbia University in the City of New York       New York       32429  \n",
       "New York University                               new york       51123  \n",
       "Northeastern University                      Massachusetts       27260  \n",
       "Purdue University                                  Indiana       41573  \n",
       "The Pennsylvania State University             Pennsylvania       98783  \n",
       "University of California at Berkeley            california       41910  \n",
       "University of Illinois                            Illinois       44087  \n",
       "University of Southern California               California       44000  "
      ]
     },
     "execution_count": 12,
     "metadata": {},
     "output_type": "execute_result"
    }
   ],
   "source": [
    "combined"
   ]
  },
  {
   "cell_type": "markdown",
   "metadata": {},
   "source": [
    "### Question 8 (4pts)\n",
    "Examine the State column in the dataframe above. You will see that some state names are all capitalized while others are typed in all lowercase letters. And we want to fix that. :)\n",
    "\n",
    "* Write a code snippet that defines a function to converts all state names to title case (so that each initial is capitalized) and then uses this function to transform the State column in the dataframe. \n",
    "* You should use one of the data transformation methods we covered in class."
   ]
  },
  {
   "cell_type": "code",
   "execution_count": 13,
   "metadata": {},
   "outputs": [],
   "source": [
    "combined[\"State\"] = combined[\"State\"].apply(lambda x: x.title())"
   ]
  },
  {
   "cell_type": "code",
   "execution_count": 14,
   "metadata": {},
   "outputs": [
    {
     "data": {
      "text/html": [
       "<div>\n",
       "<style scoped>\n",
       "    .dataframe tbody tr th:only-of-type {\n",
       "        vertical-align: middle;\n",
       "    }\n",
       "\n",
       "    .dataframe tbody tr th {\n",
       "        vertical-align: top;\n",
       "    }\n",
       "\n",
       "    .dataframe thead th {\n",
       "        text-align: right;\n",
       "    }\n",
       "</style>\n",
       "<table border=\"1\" class=\"dataframe\">\n",
       "  <thead>\n",
       "    <tr style=\"text-align: right;\">\n",
       "      <th></th>\n",
       "      <th>Students</th>\n",
       "      <th>City</th>\n",
       "      <th>State</th>\n",
       "      <th>Population</th>\n",
       "    </tr>\n",
       "  </thead>\n",
       "  <tbody>\n",
       "    <tr>\n",
       "      <td>Arizona State University</td>\n",
       "      <td>14647</td>\n",
       "      <td>Tempe</td>\n",
       "      <td>Arizona</td>\n",
       "      <td>71946</td>\n",
       "    </tr>\n",
       "    <tr>\n",
       "      <td>Boston University</td>\n",
       "      <td>11955</td>\n",
       "      <td>Boston</td>\n",
       "      <td>Massachusetts</td>\n",
       "      <td>32551</td>\n",
       "    </tr>\n",
       "    <tr>\n",
       "      <td>Columbia University in the City of New York</td>\n",
       "      <td>18332</td>\n",
       "      <td>New York City</td>\n",
       "      <td>New York</td>\n",
       "      <td>32429</td>\n",
       "    </tr>\n",
       "    <tr>\n",
       "      <td>New York University</td>\n",
       "      <td>22238</td>\n",
       "      <td>New York City</td>\n",
       "      <td>New York</td>\n",
       "      <td>51123</td>\n",
       "    </tr>\n",
       "    <tr>\n",
       "      <td>Northeastern University</td>\n",
       "      <td>17304</td>\n",
       "      <td>Boston</td>\n",
       "      <td>Massachusetts</td>\n",
       "      <td>27260</td>\n",
       "    </tr>\n",
       "    <tr>\n",
       "      <td>Purdue University</td>\n",
       "      <td>13609</td>\n",
       "      <td>West Lafayette</td>\n",
       "      <td>Indiana</td>\n",
       "      <td>41573</td>\n",
       "    </tr>\n",
       "    <tr>\n",
       "      <td>The Pennsylvania State University</td>\n",
       "      <td>12876</td>\n",
       "      <td>Centre County</td>\n",
       "      <td>Pennsylvania</td>\n",
       "      <td>98783</td>\n",
       "    </tr>\n",
       "    <tr>\n",
       "      <td>University of California at Berkeley</td>\n",
       "      <td>12779</td>\n",
       "      <td>Berkeley</td>\n",
       "      <td>California</td>\n",
       "      <td>41910</td>\n",
       "    </tr>\n",
       "    <tr>\n",
       "      <td>University of Illinois</td>\n",
       "      <td>14735</td>\n",
       "      <td>Champaign</td>\n",
       "      <td>Illinois</td>\n",
       "      <td>44087</td>\n",
       "    </tr>\n",
       "    <tr>\n",
       "      <td>University of Southern California</td>\n",
       "      <td>18786</td>\n",
       "      <td>Los Angeles</td>\n",
       "      <td>California</td>\n",
       "      <td>44000</td>\n",
       "    </tr>\n",
       "  </tbody>\n",
       "</table>\n",
       "</div>"
      ],
      "text/plain": [
       "                                             Students            City  \\\n",
       "Arizona State University                        14647           Tempe   \n",
       "Boston University                               11955          Boston   \n",
       "Columbia University in the City of New York     18332  New York City    \n",
       "New York University                             22238  New York City    \n",
       "Northeastern University                         17304          Boston   \n",
       "Purdue University                               13609  West Lafayette   \n",
       "The Pennsylvania State University               12876   Centre County   \n",
       "University of California at Berkeley            12779        Berkeley   \n",
       "University of Illinois                          14735       Champaign   \n",
       "University of Southern California               18786     Los Angeles   \n",
       "\n",
       "                                                     State  Population  \n",
       "Arizona State University                           Arizona       71946  \n",
       "Boston University                            Massachusetts       32551  \n",
       "Columbia University in the City of New York       New York       32429  \n",
       "New York University                               New York       51123  \n",
       "Northeastern University                      Massachusetts       27260  \n",
       "Purdue University                                  Indiana       41573  \n",
       "The Pennsylvania State University             Pennsylvania       98783  \n",
       "University of California at Berkeley            California       41910  \n",
       "University of Illinois                            Illinois       44087  \n",
       "University of Southern California               California       44000  "
      ]
     },
     "execution_count": 14,
     "metadata": {},
     "output_type": "execute_result"
    }
   ],
   "source": [
    "combined"
   ]
  },
  {
   "cell_type": "markdown",
   "metadata": {},
   "source": [
    "### Question 9 (2pts)\n",
    "Write a one-line code snippet that computes a new Percentage column for the percentage of international students compared to the overall student population at the universities found in the previous dataframe."
   ]
  },
  {
   "cell_type": "code",
   "execution_count": 15,
   "metadata": {},
   "outputs": [],
   "source": [
    "combined[\"% International\"] = combined[\"Students\"]/combined[\"Population\"] * 100"
   ]
  },
  {
   "cell_type": "code",
   "execution_count": 16,
   "metadata": {},
   "outputs": [
    {
     "data": {
      "text/html": [
       "<div>\n",
       "<style scoped>\n",
       "    .dataframe tbody tr th:only-of-type {\n",
       "        vertical-align: middle;\n",
       "    }\n",
       "\n",
       "    .dataframe tbody tr th {\n",
       "        vertical-align: top;\n",
       "    }\n",
       "\n",
       "    .dataframe thead th {\n",
       "        text-align: right;\n",
       "    }\n",
       "</style>\n",
       "<table border=\"1\" class=\"dataframe\">\n",
       "  <thead>\n",
       "    <tr style=\"text-align: right;\">\n",
       "      <th></th>\n",
       "      <th>Students</th>\n",
       "      <th>City</th>\n",
       "      <th>State</th>\n",
       "      <th>Population</th>\n",
       "      <th>% International</th>\n",
       "    </tr>\n",
       "  </thead>\n",
       "  <tbody>\n",
       "    <tr>\n",
       "      <td>Arizona State University</td>\n",
       "      <td>14647</td>\n",
       "      <td>Tempe</td>\n",
       "      <td>Arizona</td>\n",
       "      <td>71946</td>\n",
       "      <td>20.358324</td>\n",
       "    </tr>\n",
       "    <tr>\n",
       "      <td>Boston University</td>\n",
       "      <td>11955</td>\n",
       "      <td>Boston</td>\n",
       "      <td>Massachusetts</td>\n",
       "      <td>32551</td>\n",
       "      <td>36.726982</td>\n",
       "    </tr>\n",
       "    <tr>\n",
       "      <td>Columbia University in the City of New York</td>\n",
       "      <td>18332</td>\n",
       "      <td>New York City</td>\n",
       "      <td>New York</td>\n",
       "      <td>32429</td>\n",
       "      <td>56.529649</td>\n",
       "    </tr>\n",
       "    <tr>\n",
       "      <td>New York University</td>\n",
       "      <td>22238</td>\n",
       "      <td>New York City</td>\n",
       "      <td>New York</td>\n",
       "      <td>51123</td>\n",
       "      <td>43.499012</td>\n",
       "    </tr>\n",
       "    <tr>\n",
       "      <td>Northeastern University</td>\n",
       "      <td>17304</td>\n",
       "      <td>Boston</td>\n",
       "      <td>Massachusetts</td>\n",
       "      <td>27260</td>\n",
       "      <td>63.477623</td>\n",
       "    </tr>\n",
       "    <tr>\n",
       "      <td>Purdue University</td>\n",
       "      <td>13609</td>\n",
       "      <td>West Lafayette</td>\n",
       "      <td>Indiana</td>\n",
       "      <td>41573</td>\n",
       "      <td>32.735189</td>\n",
       "    </tr>\n",
       "    <tr>\n",
       "      <td>The Pennsylvania State University</td>\n",
       "      <td>12876</td>\n",
       "      <td>Centre County</td>\n",
       "      <td>Pennsylvania</td>\n",
       "      <td>98783</td>\n",
       "      <td>13.034631</td>\n",
       "    </tr>\n",
       "    <tr>\n",
       "      <td>University of California at Berkeley</td>\n",
       "      <td>12779</td>\n",
       "      <td>Berkeley</td>\n",
       "      <td>California</td>\n",
       "      <td>41910</td>\n",
       "      <td>30.491529</td>\n",
       "    </tr>\n",
       "    <tr>\n",
       "      <td>University of Illinois</td>\n",
       "      <td>14735</td>\n",
       "      <td>Champaign</td>\n",
       "      <td>Illinois</td>\n",
       "      <td>44087</td>\n",
       "      <td>33.422551</td>\n",
       "    </tr>\n",
       "    <tr>\n",
       "      <td>University of Southern California</td>\n",
       "      <td>18786</td>\n",
       "      <td>Los Angeles</td>\n",
       "      <td>California</td>\n",
       "      <td>44000</td>\n",
       "      <td>42.695455</td>\n",
       "    </tr>\n",
       "  </tbody>\n",
       "</table>\n",
       "</div>"
      ],
      "text/plain": [
       "                                             Students            City  \\\n",
       "Arizona State University                        14647           Tempe   \n",
       "Boston University                               11955          Boston   \n",
       "Columbia University in the City of New York     18332  New York City    \n",
       "New York University                             22238  New York City    \n",
       "Northeastern University                         17304          Boston   \n",
       "Purdue University                               13609  West Lafayette   \n",
       "The Pennsylvania State University               12876   Centre County   \n",
       "University of California at Berkeley            12779        Berkeley   \n",
       "University of Illinois                          14735       Champaign   \n",
       "University of Southern California               18786     Los Angeles   \n",
       "\n",
       "                                                     State  Population  \\\n",
       "Arizona State University                           Arizona       71946   \n",
       "Boston University                            Massachusetts       32551   \n",
       "Columbia University in the City of New York       New York       32429   \n",
       "New York University                               New York       51123   \n",
       "Northeastern University                      Massachusetts       27260   \n",
       "Purdue University                                  Indiana       41573   \n",
       "The Pennsylvania State University             Pennsylvania       98783   \n",
       "University of California at Berkeley            California       41910   \n",
       "University of Illinois                            Illinois       44087   \n",
       "University of Southern California               California       44000   \n",
       "\n",
       "                                             % International  \n",
       "Arizona State University                           20.358324  \n",
       "Boston University                                  36.726982  \n",
       "Columbia University in the City of New York        56.529649  \n",
       "New York University                                43.499012  \n",
       "Northeastern University                            63.477623  \n",
       "Purdue University                                  32.735189  \n",
       "The Pennsylvania State University                  13.034631  \n",
       "University of California at Berkeley               30.491529  \n",
       "University of Illinois                             33.422551  \n",
       "University of Southern California                  42.695455  "
      ]
     },
     "execution_count": 16,
     "metadata": {},
     "output_type": "execute_result"
    }
   ],
   "source": [
    "combined"
   ]
  },
  {
   "cell_type": "markdown",
   "metadata": {},
   "source": [
    "### Question 10 (6pts)\n",
    "Write a code snippet that groups the universities in the combined dataframe by State. Your code should display a summary dataframe containing \n",
    "    * the number of universities from each state, \n",
    "    * the average number of international students in each state, and \n",
    "    * the density of the international students at universities from each state.\n",
    "\n",
    "Student density will be computed based on the Percentage column:\n",
    "    * If the average value of the Percentage column for the universities in each state is greater than 50, the density should be \"High\".\n",
    "    * If the average is greater than 30, then the density should be \"Moderate\"\n",
    "    * If the average is less than 30, the density should be \"Low\"\n",
    "    \n",
    "**Please study the sample output below very carefully.** You will need to change the names of the columns to match the output below."
   ]
  },
  {
   "cell_type": "code",
   "execution_count": 66,
   "metadata": {},
   "outputs": [],
   "source": [
    "def density(percent):\n",
    "    if percent.mean() > 50:\n",
    "        return \"High\"\n",
    "    elif percent.mean() > 30:\n",
    "        return \"Moderate\"\n",
    "    else:\n",
    "        return \"Low\"\n",
    "grouped_by_state = combined.groupby(\"State\").agg({\"State\": \"count\", \"% International\": density,\"Students\": \"mean\"})\n",
    "grouped_by_state.columns=[\"# of Universities\", \"Intl Student Density\", \"Ave # of Intl Students\"]"
   ]
  },
  {
   "cell_type": "code",
   "execution_count": 67,
   "metadata": {},
   "outputs": [
    {
     "data": {
      "text/html": [
       "<div>\n",
       "<style scoped>\n",
       "    .dataframe tbody tr th:only-of-type {\n",
       "        vertical-align: middle;\n",
       "    }\n",
       "\n",
       "    .dataframe tbody tr th {\n",
       "        vertical-align: top;\n",
       "    }\n",
       "\n",
       "    .dataframe thead th {\n",
       "        text-align: right;\n",
       "    }\n",
       "</style>\n",
       "<table border=\"1\" class=\"dataframe\">\n",
       "  <thead>\n",
       "    <tr style=\"text-align: right;\">\n",
       "      <th></th>\n",
       "      <th># of Universities</th>\n",
       "      <th>Intl Student Density</th>\n",
       "      <th>Ave # of Intl Students</th>\n",
       "    </tr>\n",
       "    <tr>\n",
       "      <th>State</th>\n",
       "      <th></th>\n",
       "      <th></th>\n",
       "      <th></th>\n",
       "    </tr>\n",
       "  </thead>\n",
       "  <tbody>\n",
       "    <tr>\n",
       "      <td>Arizona</td>\n",
       "      <td>1</td>\n",
       "      <td>Low</td>\n",
       "      <td>14647.0</td>\n",
       "    </tr>\n",
       "    <tr>\n",
       "      <td>California</td>\n",
       "      <td>2</td>\n",
       "      <td>Moderate</td>\n",
       "      <td>15782.5</td>\n",
       "    </tr>\n",
       "    <tr>\n",
       "      <td>Illinois</td>\n",
       "      <td>1</td>\n",
       "      <td>Moderate</td>\n",
       "      <td>14735.0</td>\n",
       "    </tr>\n",
       "    <tr>\n",
       "      <td>Indiana</td>\n",
       "      <td>1</td>\n",
       "      <td>Moderate</td>\n",
       "      <td>13609.0</td>\n",
       "    </tr>\n",
       "    <tr>\n",
       "      <td>Massachusetts</td>\n",
       "      <td>2</td>\n",
       "      <td>High</td>\n",
       "      <td>14629.5</td>\n",
       "    </tr>\n",
       "    <tr>\n",
       "      <td>New York</td>\n",
       "      <td>2</td>\n",
       "      <td>High</td>\n",
       "      <td>20285.0</td>\n",
       "    </tr>\n",
       "    <tr>\n",
       "      <td>Pennsylvania</td>\n",
       "      <td>1</td>\n",
       "      <td>Low</td>\n",
       "      <td>12876.0</td>\n",
       "    </tr>\n",
       "  </tbody>\n",
       "</table>\n",
       "</div>"
      ],
      "text/plain": [
       "               # of Universities Intl Student Density  Ave # of Intl Students\n",
       "State                                                                        \n",
       "Arizona                        1                  Low                 14647.0\n",
       "California                     2             Moderate                 15782.5\n",
       "Illinois                       1             Moderate                 14735.0\n",
       "Indiana                        1             Moderate                 13609.0\n",
       "Massachusetts                  2                 High                 14629.5\n",
       "New York                       2                 High                 20285.0\n",
       "Pennsylvania                   1                  Low                 12876.0"
      ]
     },
     "execution_count": 67,
     "metadata": {},
     "output_type": "execute_result"
    }
   ],
   "source": [
    "grouped_by_state"
   ]
  },
  {
   "cell_type": "markdown",
   "metadata": {},
   "source": [
    "## Question 11 (5pts)\n",
    "\n",
    "Write a code snippet that produces a bar plot showing the average number of international students per state from the previous dataframe. The names of the states should be shown on the x-axis and the numbers on the y-axis, as shown below. Your graph should produce a similar output. Use any color you like."
   ]
  },
  {
   "cell_type": "code",
   "execution_count": 89,
   "metadata": {},
   "outputs": [
    {
     "data": {
      "text/plain": [
       "[Text(0, 0, 'Arizona'),\n",
       " Text(0, 0, 'California'),\n",
       " Text(0, 0, 'Illinois'),\n",
       " Text(0, 0, 'Indiana'),\n",
       " Text(0, 0, 'Massachusetts'),\n",
       " Text(0, 0, 'New York'),\n",
       " Text(0, 0, 'Pennsylvania')]"
      ]
     },
     "execution_count": 89,
     "metadata": {},
     "output_type": "execute_result"
    },
    {
     "data": {
      "image/png": "[encoded data removed]",
      "text/plain": [
       "<Figure size 432x288 with 1 Axes>"
      ]
     },
     "metadata": {
      "needs_background": "light"
     },
     "output_type": "display_data"
    }
   ],
   "source": [
    "import seaborn as sns\n",
    "\n",
    "# color palette loosely based off official state colors/license plate color schemes :) \n",
    "graph = sns.barplot(x=grouped_by_state.index, y=\"Ave # of Intl Students\", data=grouped_by_state, palette=[\"maroon\", \"gold\", \"red\", \"navy\", \"green\", \"orange\", \"blue\"])\n",
    "\n",
    "graph.set_title(\"Average Number of Students per State\", size = 14)\n",
    "\n",
    "graph.set_xlabel(\"State\", size = 12)\n",
    "graph.set_ylabel(\"# of Students\", size = 12)\n",
    "\n",
    "graph.set_xticklabels(graph.get_xticklabels(), rotation=45)"
   ]
  },
  {
   "cell_type": "code",
   "execution_count": null,
   "metadata": {},
   "outputs": [],
   "source": []
  }
 ],
 "metadata": {
  "kernelspec": {
   "display_name": "Python 3",
   "language": "python",
   "name": "python3"
  },
  "language_info": {
   "codemirror_mode": {
    "name": "ipython",
    "version": 3
   },
   "file_extension": ".py",
   "mimetype": "text/x-python",
   "name": "python",
   "nbconvert_exporter": "python",
   "pygments_lexer": "ipython3",
   "version": "3.7.4"
  }
 },
 "nbformat": 4,
 "nbformat_minor": 2
}
